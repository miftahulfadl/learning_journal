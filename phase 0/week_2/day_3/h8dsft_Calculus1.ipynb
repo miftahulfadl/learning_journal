{
 "cells": [
  {
   "cell_type": "markdown",
   "metadata": {},
   "source": [
    "# NON GRADED CHALLENGE 6"
   ]
  },
  {
   "cell_type": "markdown",
   "metadata": {},
   "source": [
    "### Problem\n",
    "Carilah derivative dari sebuah fungsi:\n",
    "- $y = x^{2} + 2x + 1$\n",
    "- $y = 4x^{3} - 3x^{2} + 2x -1$"
   ]
  },
  {
   "cell_type": "markdown",
   "metadata": {},
   "source": [
    "Jawaban"
   ]
  },
  {
   "cell_type": "markdown",
   "metadata": {},
   "source": [
    "Turunan Symbolic"
   ]
  },
  {
   "cell_type": "code",
   "execution_count": 1,
   "metadata": {},
   "outputs": [],
   "source": [
    "import sympy as sy"
   ]
  },
  {
   "cell_type": "code",
   "execution_count": 3,
   "metadata": {},
   "outputs": [
    {
     "data": {
      "text/latex": [
       "$\\displaystyle 2 x + 2$"
      ],
      "text/plain": [
       "2*x + 2"
      ]
     },
     "execution_count": 3,
     "metadata": {},
     "output_type": "execute_result"
    }
   ],
   "source": [
    "x = sy.Symbol('x')\n",
    "f1 = x**2+2*x+1\n",
    "f2 = 4*x**3 - 3*x**2 + 2*x - 1\n",
    "f1.diff(x)"
   ]
  },
  {
   "cell_type": "code",
   "execution_count": 4,
   "metadata": {},
   "outputs": [
    {
     "data": {
      "text/latex": [
       "$\\displaystyle 12 x^{2} - 6 x + 2$"
      ],
      "text/plain": [
       "12*x**2 - 6*x + 2"
      ]
     },
     "execution_count": 4,
     "metadata": {},
     "output_type": "execute_result"
    }
   ],
   "source": [
    "f2.diff(x)"
   ]
  },
  {
   "cell_type": "markdown",
   "metadata": {},
   "source": [
    "Turunan Numerical"
   ]
  },
  {
   "cell_type": "code",
   "execution_count": 15,
   "metadata": {},
   "outputs": [
    {
     "data": {
      "text/plain": [
       "array([ 2.20408163,  2.40816327,  2.81632653,  3.2244898 ,  3.63265306,\n",
       "        4.04081633,  4.44897959,  4.85714286,  5.26530612,  5.67346939,\n",
       "        6.08163265,  6.48979592,  6.89795918,  7.30612245,  7.71428571,\n",
       "        8.12244898,  8.53061224,  8.93877551,  9.34693878,  9.75510204,\n",
       "       10.16326531, 10.57142857, 10.97959184, 11.3877551 , 11.79591837,\n",
       "       12.20408163, 12.6122449 , 13.02040816, 13.42857143, 13.83673469,\n",
       "       14.24489796, 14.65306122, 15.06122449, 15.46938776, 15.87755102,\n",
       "       16.28571429, 16.69387755, 17.10204082, 17.51020408, 17.91836735,\n",
       "       18.32653061, 18.73469388, 19.14285714, 19.55102041, 19.95918367,\n",
       "       20.36734694, 20.7755102 , 21.18367347, 21.59183673, 21.79591837])"
      ]
     },
     "execution_count": 15,
     "metadata": {},
     "output_type": "execute_result"
    }
   ],
   "source": [
    "import numpy as np\n",
    "x = np.linspace(0,10)\n",
    "y1 = x**2+2*x+1\n",
    "y2 = 4*x**3 - 3*x**2 + 2*x - 1\n",
    "\n",
    "df1 = np.gradient(y1,x)\n",
    "df2 = np.gradient(y2,x)\n",
    "df1"
   ]
  },
  {
   "cell_type": "code",
   "execution_count": 16,
   "metadata": {},
   "outputs": [
    {
     "data": {
      "text/plain": [
       "array([   1.55435235,    1.44189921,    1.71678467,    2.99125364,\n",
       "          5.26530612,    8.53894211,   12.8121616 ,   18.0849646 ,\n",
       "         24.3573511 ,   31.62932112,   39.90087464,   49.17201166,\n",
       "         59.44273219,   70.71303623,   82.98292378,   96.25239484,\n",
       "        110.5214494 ,  125.79008746,  142.05830904,  159.32611412,\n",
       "        177.59350271,  196.8604748 ,  217.1270304 ,  238.39316951,\n",
       "        260.65889213,  283.92419825,  308.18908788,  333.45356102,\n",
       "        359.71761766,  386.98125781,  415.24448147,  444.50728863,\n",
       "        474.7696793 ,  506.03165348,  538.29321116,  571.55435235,\n",
       "        605.81507705,  641.07538526,  677.33527697,  714.59475219,\n",
       "        752.85381091,  792.11245314,  832.37067888,  873.62848813,\n",
       "        915.88588088,  959.14285714, 1003.39941691, 1048.65556018,\n",
       "       1094.91128696, 1118.28904623])"
      ]
     },
     "execution_count": 16,
     "metadata": {},
     "output_type": "execute_result"
    }
   ],
   "source": [
    "df2"
   ]
  },
  {
   "cell_type": "code",
   "execution_count": null,
   "metadata": {},
   "outputs": [],
   "source": []
  }
 ],
 "metadata": {
  "interpreter": {
   "hash": "e5e7ab277e036409ee5f9f2e14c3bdf1d2c3b5a8a64ec5da5397e02154381834"
  },
  "kernelspec": {
   "display_name": "Python 3.9.7 ('base')",
   "language": "python",
   "name": "python3"
  },
  "language_info": {
   "codemirror_mode": {
    "name": "ipython",
    "version": 3
   },
   "file_extension": ".py",
   "mimetype": "text/x-python",
   "name": "python",
   "nbconvert_exporter": "python",
   "pygments_lexer": "ipython3",
   "version": "3.9.7"
  },
  "orig_nbformat": 4
 },
 "nbformat": 4,
 "nbformat_minor": 2
}
