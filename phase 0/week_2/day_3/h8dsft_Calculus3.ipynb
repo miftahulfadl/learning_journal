{
 "cells": [
  {
   "cell_type": "markdown",
   "metadata": {},
   "source": [
    "# NON GRADED CHALLENGE 7"
   ]
  },
  {
   "cell_type": "markdown",
   "metadata": {},
   "source": [
    "### Problem\n",
    "Carilah gradient dari sebuah fungsi:\n",
    "- $3x + 4y = 5$"
   ]
  },
  {
   "cell_type": "markdown",
   "metadata": {},
   "source": [
    "Jawaban"
   ]
  },
  {
   "cell_type": "markdown",
   "metadata": {},
   "source": [
    "Turunan Symbolic"
   ]
  },
  {
   "cell_type": "code",
   "execution_count": 2,
   "metadata": {},
   "outputs": [],
   "source": [
    "import sympy as sy"
   ]
  },
  {
   "cell_type": "code",
   "execution_count": 6,
   "metadata": {},
   "outputs": [
    {
     "data": {
      "text/latex": [
       "$\\displaystyle 3 x + 4 y - 5$"
      ],
      "text/plain": [
       "3*x + 4*y - 5"
      ]
     },
     "execution_count": 6,
     "metadata": {},
     "output_type": "execute_result"
    }
   ],
   "source": [
    "x,y = sy.symbols('x y')\n",
    "f = 3*x + 4*y - 5\n",
    "f"
   ]
  },
  {
   "cell_type": "markdown",
   "metadata": {},
   "source": [
    "Gradien"
   ]
  },
  {
   "cell_type": "code",
   "execution_count": 11,
   "metadata": {},
   "outputs": [
    {
     "data": {
      "text/latex": [
       "$\\displaystyle \\left[\\begin{matrix}3 & 4\\end{matrix}\\right]$"
      ],
      "text/plain": [
       "[3, 4]"
      ]
     },
     "execution_count": 11,
     "metadata": {},
     "output_type": "execute_result"
    }
   ],
   "source": [
    "from sympy.tensor.array import derive_by_array\n",
    "grad = derive_by_array(f, (x,y))\n",
    "grad"
   ]
  },
  {
   "cell_type": "markdown",
   "metadata": {},
   "source": [
    "Turunan Numerical"
   ]
  },
  {
   "cell_type": "code",
   "execution_count": 25,
   "metadata": {},
   "outputs": [],
   "source": [
    "import numpy as np\n",
    "def f(x,y):\n",
    "    return 3*x + 4*y - 5\n",
    "x = np.linspace(1,10)\n",
    "y = np.linspace(1,10)\n",
    "\n",
    "z = np.array( [[f(i,j) for i in x] for j in y] )\n",
    "\n",
    "dx,dy = np.gradient(z)"
   ]
  },
  {
   "cell_type": "code",
   "execution_count": 26,
   "metadata": {},
   "outputs": [
    {
     "data": {
      "text/plain": [
       "array([[0.73469388, 0.73469388, 0.73469388, ..., 0.73469388, 0.73469388,\n",
       "        0.73469388],\n",
       "       [0.73469388, 0.73469388, 0.73469388, ..., 0.73469388, 0.73469388,\n",
       "        0.73469388],\n",
       "       [0.73469388, 0.73469388, 0.73469388, ..., 0.73469388, 0.73469388,\n",
       "        0.73469388],\n",
       "       ...,\n",
       "       [0.73469388, 0.73469388, 0.73469388, ..., 0.73469388, 0.73469388,\n",
       "        0.73469388],\n",
       "       [0.73469388, 0.73469388, 0.73469388, ..., 0.73469388, 0.73469388,\n",
       "        0.73469388],\n",
       "       [0.73469388, 0.73469388, 0.73469388, ..., 0.73469388, 0.73469388,\n",
       "        0.73469388]])"
      ]
     },
     "execution_count": 26,
     "metadata": {},
     "output_type": "execute_result"
    }
   ],
   "source": [
    "dx"
   ]
  },
  {
   "cell_type": "code",
   "execution_count": 27,
   "metadata": {},
   "outputs": [
    {
     "data": {
      "text/plain": [
       "array([[0.55102041, 0.55102041, 0.55102041, ..., 0.55102041, 0.55102041,\n",
       "        0.55102041],\n",
       "       [0.55102041, 0.55102041, 0.55102041, ..., 0.55102041, 0.55102041,\n",
       "        0.55102041],\n",
       "       [0.55102041, 0.55102041, 0.55102041, ..., 0.55102041, 0.55102041,\n",
       "        0.55102041],\n",
       "       ...,\n",
       "       [0.55102041, 0.55102041, 0.55102041, ..., 0.55102041, 0.55102041,\n",
       "        0.55102041],\n",
       "       [0.55102041, 0.55102041, 0.55102041, ..., 0.55102041, 0.55102041,\n",
       "        0.55102041],\n",
       "       [0.55102041, 0.55102041, 0.55102041, ..., 0.55102041, 0.55102041,\n",
       "        0.55102041]])"
      ]
     },
     "execution_count": 27,
     "metadata": {},
     "output_type": "execute_result"
    }
   ],
   "source": [
    "dy"
   ]
  },
  {
   "cell_type": "code",
   "execution_count": null,
   "metadata": {},
   "outputs": [],
   "source": []
  }
 ],
 "metadata": {
  "interpreter": {
   "hash": "e5e7ab277e036409ee5f9f2e14c3bdf1d2c3b5a8a64ec5da5397e02154381834"
  },
  "kernelspec": {
   "display_name": "Python 3.9.7 ('base')",
   "language": "python",
   "name": "python3"
  },
  "language_info": {
   "codemirror_mode": {
    "name": "ipython",
    "version": 3
   },
   "file_extension": ".py",
   "mimetype": "text/x-python",
   "name": "python",
   "nbconvert_exporter": "python",
   "pygments_lexer": "ipython3",
   "version": "3.9.7"
  },
  "orig_nbformat": 4
 },
 "nbformat": 4,
 "nbformat_minor": 2
}
