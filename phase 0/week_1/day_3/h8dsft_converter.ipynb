{
 "cells": [
  {
   "cell_type": "markdown",
   "metadata": {},
   "source": [
    "# Soal"
   ]
  },
  {
   "cell_type": "markdown",
   "metadata": {},
   "source": [
    "1. Buatlah sebuah function yang dapat mengkonversi suhu dari kelvin ke celcius, dan celcius ke kelvin.\n",
    "2. Buatlah sebuah function yang dapat mengkonversi suhu ke fahrenheit. Tambahkan parameter untuk memastikan bahwa argumen  yang dimasukan adalah celcius atau kelvin. Panggil function yang pertama jika diperlukan.\n",
    "3. Buatlah sebuah function yang dapat mengkonversi suhu dari fahrenheit. Berikan argumen untuk memastikan bahwa outputnya adalah celcius atau kelvin.\n",
    "4. Berikan dokumentasi pada setiap baris kode yang kalian tulis."
   ]
  },
  {
   "cell_type": "markdown",
   "metadata": {},
   "source": [
    "## Jawaban"
   ]
  },
  {
   "cell_type": "markdown",
   "metadata": {},
   "source": [
    "#### Converter Suhu (Celcius <> Kelvin)"
   ]
  },
  {
   "cell_type": "code",
   "execution_count": 3,
   "metadata": {},
   "outputs": [
    {
     "name": "stdout",
     "output_type": "stream",
     "text": [
      "suhu 30 C = 303.15 K\n",
      "suhu279 K = 5.850000000000023 C\n"
     ]
    }
   ],
   "source": [
    "def c_to_k(temp): # membuat fungsi untuk mengubah celcius ke kelvin\n",
    "    k = float(temp) + 273.15 # menambahkan konverter suhu celcius ke kelvin pada variabel k\n",
    "    print(f\"suhu {temp} C = {k} K\") # menampilkan hasil konversi\n",
    "\n",
    "def k_to_c(temp): # membuat fungsi untuk mengubah kelvin ke celcius\n",
    "    c = float(temp) - 273.15 # menambahkan konverter suhu kelvin ke celcius pada variabel c\n",
    "    print(f\"suhu {temp} K = {c} C\") # menampilkan hasil konversi\n",
    "    \n",
    "c_to_k(input()) # memanggil fungsi konverter celcius ke kelvin (dengan meminta input nilai suhu kepada user)\n",
    "k_to_c(input()) # memanggil fungsi konverter kelvin ke celcius (dengan meminta input nilai suhu kepada user)"
   ]
  },
  {
   "cell_type": "markdown",
   "metadata": {},
   "source": [
    "#### Converter Suhu (Celcius & Kelvin > Fahrenheit)"
   ]
  },
  {
   "cell_type": "code",
   "execution_count": 4,
   "metadata": {},
   "outputs": [
    {
     "name": "stdout",
     "output_type": "stream",
     "text": [
      "Suhu 30 C = 86.0 F\n",
      "suhu 331 K = 136.13000000000005 F\n"
     ]
    }
   ],
   "source": [
    "def c_to_f(temp): # membuat fungsi untuk mengubah celcius ke kelvin\n",
    "    f = ((9/5) * float(temp)) + 32 # menambahkan konverter suhu celcius ke fahrenheit pada variabel f\n",
    "    print(f\"Suhu {temp} C = {f} F\") # menampilkan hasil konversi\n",
    "    \n",
    "def k_to_f(temp): # membuat fungsi untuk mengubah kelvin ke fahrenheit\n",
    "    c = float(temp) - 273.15 # menambahkan konverter kelvin ke celcius pada variabel c\n",
    "    f = ((9/5) * (c)) + 32 # memasukkan variabel c ke dalam konverter celcius ke fahrenheit\n",
    "    print(f\"suhu {temp} K = {f} F\") # menampilkan hasil konversi\n",
    "\n",
    "c_to_f(input()) # memanggil fungsi konverter celcius ke fahrenheit (dengan meminta input nilai suhu kepada user)\n",
    "k_to_f(input()) # memanggil fungsi konverter kelvin ke fahrenheit (dengan meminta input nilai suhu kepada user)"
   ]
  },
  {
   "cell_type": "markdown",
   "metadata": {},
   "source": [
    "#### Converter Suhu (Fahrenheit > Celcius & Kelvin)"
   ]
  },
  {
   "cell_type": "code",
   "execution_count": 7,
   "metadata": {},
   "outputs": [
    {
     "name": "stdout",
     "output_type": "stream",
     "text": [
      "suhu 40 F = 4.444444444444445 C\n",
      "suhu 50 F = 283.15 K\n"
     ]
    }
   ],
   "source": [
    "def f_to_c(temp): # membuat fungsi untuk mengubah fahrenheit ke celcius\n",
    "    c = (5/9) * (float(temp) - 32) # menambahkan konverter suhu fahrenheit ke celcius pada variabel c\n",
    "    print(f\"suhu {temp} F = {c} C\") # menampilkan hasil konversi\n",
    "\n",
    "def f_to_k(temp): # membuat fungsi untuk mengubah fahrenheit ke kelvin\n",
    "    c = (5/9) * (float(temp) - 32) # menambahkan konverter fahrenheit ke celcius pada variabel c\n",
    "    k = float(c) + 273.15 # memasukkan variabel c ke dalam konverter celcius ke kelvin\n",
    "    print(f\"suhu {temp} F = {k} K\") # menampilkan hasil konversi\n",
    "\n",
    "f_to_c(input()) # memanggil fungsi konverter fahrenheit ke celcius (dengan meminta input nilai suhu kepada user)\n",
    "f_to_k(input()) # memanggil fungsi konverter fahrenheit ke kelvin (dengan meminta input nilai suhu kepada user)\n"
   ]
  }
 ],
 "metadata": {
  "interpreter": {
   "hash": "cd8ac7ed5329ff1f59a8356dfddf06d159cf18414acbfd7b13d1d5cd1cbb5d7d"
  },
  "kernelspec": {
   "display_name": "Python 3.9.7 ('base')",
   "language": "python",
   "name": "python3"
  },
  "language_info": {
   "codemirror_mode": {
    "name": "ipython",
    "version": 3
   },
   "file_extension": ".py",
   "mimetype": "text/x-python",
   "name": "python",
   "nbconvert_exporter": "python",
   "pygments_lexer": "ipython3",
   "version": "3.9.7"
  },
  "orig_nbformat": 4
 },
 "nbformat": 4,
 "nbformat_minor": 2
}
