{
 "cells": [
  {
   "cell_type": "code",
   "execution_count": 1,
   "metadata": {},
   "outputs": [
    {
     "name": "stdout",
     "output_type": "stream",
     "text": [
      "1. 402\n",
      "2. 984\n",
      "4. 360\n",
      "6. 408\n",
      "10. 980\n",
      "14. 544\n",
      "25. 390\n",
      "26. 984\n",
      "27. 592\n",
      "28. 236\n",
      "30. 942\n",
      "32. 386\n",
      "33. 462\n",
      "35. 418\n",
      "37. 344\n",
      "38. 236\n",
      "41. 566\n",
      "43. 978\n",
      "44. 328\n",
      "49. 162\n",
      "50. 758\n",
      "52. 918\n",
      "Done\n"
     ]
    }
   ],
   "source": [
    "numbers = [951, 402, 984, 651, 360, 69, \n",
    "408, 319, 601, 485, 980, 507, 725, 547, \n",
    "544, 615, 83, 165, 141, 501, 263, 617, \n",
    "865, 575, 219, 390, 984, 592, 236, 105, \n",
    "942, 941, 386, 462, 47, 418, 907, 344, \n",
    "236, 375, 823, 566, 597, 978, 328, 615, \n",
    "953, 345, 399, 162, 758, 219, 918, 237, \n",
    "412, 566, 826, 248, 866, 950, 626, 949]\n",
    "i = 0\n",
    "while i <= numbers.index(918):\n",
    "    if numbers[i] % 2 == 0:\n",
    "        print(f\"{i}. {numbers[i]}\")\n",
    "    i = i + 1\n",
    "print(\"Done\")"
   ]
  },
  {
   "cell_type": "code",
   "execution_count": null,
   "metadata": {},
   "outputs": [],
   "source": []
  }
 ],
 "metadata": {
  "interpreter": {
   "hash": "cd8ac7ed5329ff1f59a8356dfddf06d159cf18414acbfd7b13d1d5cd1cbb5d7d"
  },
  "kernelspec": {
   "display_name": "Python 3.9.7 ('base')",
   "language": "python",
   "name": "python3"
  },
  "language_info": {
   "codemirror_mode": {
    "name": "ipython",
    "version": 3
   },
   "file_extension": ".py",
   "mimetype": "text/x-python",
   "name": "python",
   "nbconvert_exporter": "python",
   "pygments_lexer": "ipython3",
   "version": "3.9.7"
  },
  "orig_nbformat": 4
 },
 "nbformat": 4,
 "nbformat_minor": 2
}
