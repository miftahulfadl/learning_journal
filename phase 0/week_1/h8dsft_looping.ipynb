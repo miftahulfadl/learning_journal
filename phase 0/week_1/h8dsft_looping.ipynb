{
 "cells": [
  {
   "cell_type": "code",
   "execution_count": 135,
   "metadata": {},
   "outputs": [],
   "source": [
    "numbers = [951, 402, 984, 651, 360, 69, \n",
    "408, 319, 601, 485, 980, 507, 725, 547, \n",
    "544, 615, 83, 165, 141, 501, 263, 617, \n",
    "865, 575, 219, 390, 984, 592, 236, 105, \n",
    "942, 941, 386, 462, 47, 418, 907, 344, \n",
    "236, 375, 823, 566, 597, 978, 328, 615, \n",
    "953, 345, 399, 162, 758, 219, 918, 237, \n",
    "412, 566, 826, 248, 866, 950, 626, 949]"
   ]
  },
  {
   "cell_type": "markdown",
   "metadata": {},
   "source": [
    "Menggunakan While Loop"
   ]
  },
  {
   "cell_type": "code",
   "execution_count": 208,
   "metadata": {},
   "outputs": [
    {
     "name": "stdout",
     "output_type": "stream",
     "text": [
      "1. 402\n",
      "2. 984\n",
      "3. 360\n",
      "4. 408\n",
      "5. 980\n",
      "6. 544\n",
      "7. 390\n",
      "8. 984\n",
      "9. 592\n",
      "10. 236\n",
      "11. 942\n",
      "12. 386\n",
      "13. 462\n",
      "14. 418\n",
      "15. 344\n",
      "16. 236\n",
      "17. 566\n",
      "18. 978\n",
      "19. 328\n",
      "20. 162\n",
      "21. 758\n",
      "22. 918\n",
      "Done\n"
     ]
    }
   ],
   "source": [
    "i = 0\n",
    "j = 0 \n",
    "while i <= numbers.index(918):\n",
    "    if numbers[i] % 2 == 0:\n",
    "        j += 1\n",
    "        print(f\"{j}. {numbers[i]}\")\n",
    "    i = i + 1\n",
    "print(\"Done\")"
   ]
  },
  {
   "cell_type": "markdown",
   "metadata": {},
   "source": [
    "Menggunakan For Loop"
   ]
  },
  {
   "cell_type": "code",
   "execution_count": 182,
   "metadata": {},
   "outputs": [
    {
     "name": "stdout",
     "output_type": "stream",
     "text": [
      "1. 402\n",
      "2. 984\n",
      "3. 360\n",
      "4. 408\n",
      "5. 980\n",
      "6. 544\n",
      "7. 390\n",
      "8. 984\n",
      "9. 592\n",
      "10. 236\n",
      "11. 942\n",
      "12. 386\n",
      "13. 462\n",
      "14. 418\n",
      "15. 344\n",
      "16. 236\n",
      "17. 566\n",
      "18. 978\n",
      "19. 328\n",
      "20. 162\n",
      "21. 758\n",
      "22. 918\n",
      "Done\n"
     ]
    }
   ],
   "source": [
    "j = 0\n",
    "for i in numbers:\n",
    "    if i % 2 == 0:\n",
    "        j += 1\n",
    "        print(f\"{j}. {i}\")\n",
    "    if i == 918:\n",
    "        break\n",
    "print(\"Done\")"
   ]
  }
 ],
 "metadata": {
  "interpreter": {
   "hash": "cd8ac7ed5329ff1f59a8356dfddf06d159cf18414acbfd7b13d1d5cd1cbb5d7d"
  },
  "kernelspec": {
   "display_name": "Python 3.9.7 ('base')",
   "language": "python",
   "name": "python3"
  },
  "language_info": {
   "codemirror_mode": {
    "name": "ipython",
    "version": 3
   },
   "file_extension": ".py",
   "mimetype": "text/x-python",
   "name": "python",
   "nbconvert_exporter": "python",
   "pygments_lexer": "ipython3",
   "version": "3.9.7"
  },
  "orig_nbformat": 4
 },
 "nbformat": 4,
 "nbformat_minor": 2
}
